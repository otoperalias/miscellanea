{
  "nbformat": 4,
  "nbformat_minor": 0,
  "metadata": {
    "colab": {
      "provenance": [],
      "authorship_tag": "ABX9TyNwYYIymLiSRvhejabUlQfL",
      "include_colab_link": true
    },
    "kernelspec": {
      "name": "python3",
      "display_name": "Python 3"
    },
    "language_info": {
      "name": "python"
    }
  },
  "cells": [
    {
      "cell_type": "markdown",
      "metadata": {
        "id": "view-in-github",
        "colab_type": "text"
      },
      "source": [
        "<a href=\"https://colab.research.google.com/github/otoperalias/miscellanea/blob/main/Wikidata_queries.ipynb\" target=\"_parent\"><img src=\"https://colab.research.google.com/assets/colab-badge.svg\" alt=\"Open In Colab\"/></a>"
      ]
    },
    {
      "cell_type": "markdown",
      "source": [
        "Link\n",
        "https://itnext.io/extracting-data-from-wikidata-using-sparql-and-python-59e0037996f\n"
      ],
      "metadata": {
        "id": "xQAzMM9DAFnh"
      }
    },
    {
      "cell_type": "code",
      "execution_count": null,
      "metadata": {
        "id": "SPxwJdrL_3K4"
      },
      "outputs": [],
      "source": [
        "import sys\n",
        "import pandas as pd\n",
        "from typing import List, Dict\n",
        "from SPARQLWrapper import SPARQLWrapper, JSON\n",
        "\n",
        "class WikiDataQueryResults:\n",
        "    \"\"\"\n",
        "    A class that can be used to query data from Wikidata using SPARQL and return the results as a Pandas DataFrame or a list\n",
        "    of values for a specific key.\n",
        "    \"\"\"\n",
        "    def __init__(self, query: str):\n",
        "        \"\"\"\n",
        "        Initializes the WikiDataQueryResults object with a SPARQL query string.\n",
        "        :param query: A SPARQL query string.\n",
        "        \"\"\"\n",
        "        self.user_agent = \"WDQS-example Python/%s.%s\" % (sys.version_info[0], sys.version_info[1])\n",
        "        self.endpoint_url = \"https://query.wikidata.org/sparql\"\n",
        "        self.sparql = SPARQLWrapper(self.endpoint_url, agent=self.user_agent)\n",
        "        self.sparql.setQuery(query)\n",
        "        self.sparql.setReturnFormat(JSON)\n",
        "\n",
        "    def __transform2dicts(self, results: List[Dict]) -> List[Dict]:\n",
        "        \"\"\"\n",
        "        Helper function to transform SPARQL query results into a list of dictionaries.\n",
        "        :param results: A list of query results returned by SPARQLWrapper.\n",
        "        :return: A list of dictionaries, where each dictionary represents a result row and has keys corresponding to the\n",
        "        variables in the SPARQL SELECT clause.\n",
        "        \"\"\"\n",
        "        new_results = []\n",
        "        for result in results:\n",
        "            new_result = {}\n",
        "            for key in result:\n",
        "                new_result[key] = result[key]['value']\n",
        "            new_results.append(new_result)\n",
        "        return new_results\n",
        "\n",
        "    def _load(self) -> List[Dict]:\n",
        "        \"\"\"\n",
        "        Helper function that loads the data from Wikidata using the SPARQLWrapper library, and transforms the results into\n",
        "        a list of dictionaries.\n",
        "        :return: A list of dictionaries, where each dictionary represents a result row and has keys corresponding to the\n",
        "        variables in the SPARQL SELECT clause.\n",
        "        \"\"\"\n",
        "        results = self.sparql.queryAndConvert()['results']['bindings']\n",
        "        results = self.__transform2dicts(results)\n",
        "        return results\n",
        "\n",
        "    def load_as_dataframe(self) -> pd.DataFrame:\n",
        "        \"\"\"\n",
        "        Executes the SPARQL query and returns the results as a Pandas DataFrame.\n",
        "        :return: A Pandas DataFrame representing the query results.\n",
        "        \"\"\"\n",
        "        results = self._load()\n",
        "        return pd.DataFrame.from_dict(results)"
      ]
    },
    {
      "cell_type": "code",
      "source": [
        "SELECT DISTINCT ?person ?personLabel ?occupationLabel ?dateOfBirth ?birthLocationLabel\n",
        "WHERE {\n",
        "  ?person wdt:P31 wd:Q5 ;  # Select instances of humans\n",
        "          wdt:P19 wd:Q207 ;  # Born in Andalusia (Spain)\n",
        "          wdt:P106 ?occupation ;  # Occupation\n",
        "          wdt:P569 ?dateOfBirth ;  # Date of birth\n",
        "          rdfs:label ?personLabel .  # Person's label\n",
        "  ?occupation rdfs:label ?occupationLabel .  # Occupation's label\n",
        "  ?person wdt:P19 ?birthLocation .  # Birth location\n",
        "  ?birthLocation rdfs:label ?birthLocationLabel .  # Birth location's label\n",
        "  FILTER(LANG(?personLabel) = \"en\")  # English labels only\n",
        "  FILTER(LANG(?occupationLabel) = \"en\")  # English occupation labels only\n",
        "  FILTER(LANG(?birthLocationLabel) = \"en\")  # English birth location labels only\n",
        "}\n",
        "ORDER BY ?personLabel"
      ],
      "metadata": {
        "id": "IemnAp0sAN_B"
      },
      "execution_count": null,
      "outputs": []
    },
    {
      "cell_type": "markdown",
      "source": [
        "This query selects individuals who:\n",
        "\n",
        "Are instances of humans (Q5).\n",
        "Were born in Andalusia (Q207).\n",
        "Have an occupation (P106).\n",
        "Have a date of birth (P569).\n",
        "The results will include their name, occupation, date of birth, and birth location. Feel free to execute this query on the Wikidata SPARQL endpoint to explore the fascinating biographies of people from Andalusia! 🌟\n",
        "\n",
        "1: Wikidata:SPARQL query service/queries/examples"
      ],
      "metadata": {
        "id": "g_ViQ47KAaHo"
      }
    },
    {
      "cell_type": "code",
      "source": [
        "SELECT DISTINCT ?persona ?nombrePersona ?ocupacion ?fechaNacimiento ?lugarNacimiento\n",
        "WHERE {\n",
        "  ?persona wdt:P31 wd:Q5 ;  # Selecciona instancias de seres humanos\n",
        "          wdt:P19 wd:Q207 ;  # Nacidos en Andalucía (España)\n",
        "          wdt:P106 ?ocupacion ;  # Ocupación\n",
        "          wdt:P569 ?fechaNacimiento ;  # Fecha de nacimiento\n",
        "          rdfs:label ?nombrePersona .  # Nombre de la persona\n",
        "  ?ocupacion rdfs:label ?ocupacionLabel .  # Etiqueta de la ocupación\n",
        "  ?persona wdt:P19 ?lugarNacimiento .  # Lugar de nacimiento\n",
        "  ?lugarNacimiento rdfs:label ?lugarNacimientoLabel .  # Etiqueta del lugar de nacimiento\n",
        "  FILTER(LANG(?nombrePersona) = \"es\")  # Solo etiquetas en español\n",
        "  FILTER(LANG(?ocupacionLabel) = \"es\")  # Solo etiquetas de ocupación en español\n",
        "  FILTER(LANG(?lugarNacimientoLabel) = \"es\")  # Solo etiquetas del lugar de nacimiento en español\n",
        "}\n",
        "ORDER BY ?nombrePersona"
      ],
      "metadata": {
        "id": "1AVQ0SkxAUJZ"
      },
      "execution_count": null,
      "outputs": []
    },
    {
      "cell_type": "code",
      "source": [
        "data_extracter = WikiDataQueryResults(query)\n",
        "df = data_extracter.load_as_dataframe()\n",
        "print(df.head())"
      ],
      "metadata": {
        "id": "KzAYuhWNAhPS"
      },
      "execution_count": null,
      "outputs": []
    }
  ]
}