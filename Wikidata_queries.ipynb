{
  "nbformat": 4,
  "nbformat_minor": 0,
  "metadata": {
    "colab": {
      "provenance": [],
      "authorship_tag": "ABX9TyPDKn2LJcC4bRkaIhljQzti",
      "include_colab_link": true
    },
    "kernelspec": {
      "name": "python3",
      "display_name": "Python 3"
    },
    "language_info": {
      "name": "python"
    }
  },
  "cells": [
    {
      "cell_type": "markdown",
      "metadata": {
        "id": "view-in-github",
        "colab_type": "text"
      },
      "source": [
        "<a href=\"https://colab.research.google.com/github/otoperalias/miscellanea/blob/main/Wikidata_queries.ipynb\" target=\"_parent\"><img src=\"https://colab.research.google.com/assets/colab-badge.svg\" alt=\"Open In Colab\"/></a>"
      ]
    },
    {
      "cell_type": "markdown",
      "source": [
        "## Extracción de datos de Wikidata"
      ],
      "metadata": {
        "id": "5U7LSfjolVLw"
      }
    },
    {
      "cell_type": "markdown",
      "source": [
        "Link a un post interesante al respecto, donde se proporcionan las clases y funciones que defino a continuación\n",
        "https://itnext.io/extracting-data-from-wikidata-using-sparql-and-python-59e0037996f\n"
      ],
      "metadata": {
        "id": "xQAzMM9DAFnh"
      }
    },
    {
      "cell_type": "markdown",
      "source": [
        "### Instalamos librería requerida, importamos librerías y definimos clases y funciones"
      ],
      "metadata": {
        "id": "id5AUp0eluf2"
      }
    },
    {
      "cell_type": "code",
      "source": [
        "!pip install SPARQLWrapper"
      ],
      "metadata": {
        "id": "6lIhC9Y_z-GT",
        "outputId": "07082eb9-fcd6-46ce-cca5-7db495d87d3f",
        "colab": {
          "base_uri": "https://localhost:8080/"
        }
      },
      "execution_count": 1,
      "outputs": [
        {
          "output_type": "stream",
          "name": "stdout",
          "text": [
            "Collecting SPARQLWrapper\n",
            "  Downloading SPARQLWrapper-2.0.0-py3-none-any.whl (28 kB)\n",
            "Collecting rdflib>=6.1.1 (from SPARQLWrapper)\n",
            "  Downloading rdflib-7.0.0-py3-none-any.whl (531 kB)\n",
            "\u001b[2K     \u001b[90m━━━━━━━━━━━━━━━━━━━━━━━━━━━━━━━━━━━━━━━━\u001b[0m \u001b[32m531.9/531.9 kB\u001b[0m \u001b[31m3.9 MB/s\u001b[0m eta \u001b[36m0:00:00\u001b[0m\n",
            "\u001b[?25hCollecting isodate<0.7.0,>=0.6.0 (from rdflib>=6.1.1->SPARQLWrapper)\n",
            "  Downloading isodate-0.6.1-py2.py3-none-any.whl (41 kB)\n",
            "\u001b[2K     \u001b[90m━━━━━━━━━━━━━━━━━━━━━━━━━━━━━━━━━━━━━━━━\u001b[0m \u001b[32m41.7/41.7 kB\u001b[0m \u001b[31m3.3 MB/s\u001b[0m eta \u001b[36m0:00:00\u001b[0m\n",
            "\u001b[?25hRequirement already satisfied: pyparsing<4,>=2.1.0 in /usr/local/lib/python3.10/dist-packages (from rdflib>=6.1.1->SPARQLWrapper) (3.1.2)\n",
            "Requirement already satisfied: six in /usr/local/lib/python3.10/dist-packages (from isodate<0.7.0,>=0.6.0->rdflib>=6.1.1->SPARQLWrapper) (1.16.0)\n",
            "Installing collected packages: isodate, rdflib, SPARQLWrapper\n",
            "Successfully installed SPARQLWrapper-2.0.0 isodate-0.6.1 rdflib-7.0.0\n"
          ]
        }
      ]
    },
    {
      "cell_type": "code",
      "execution_count": 2,
      "metadata": {
        "id": "SPxwJdrL_3K4"
      },
      "outputs": [],
      "source": [
        "import sys\n",
        "import pandas as pd\n",
        "from typing import List, Dict\n",
        "from SPARQLWrapper import SPARQLWrapper, JSON\n",
        "\n",
        "class WikiDataQueryResults:\n",
        "    \"\"\"\n",
        "    A class that can be used to query data from Wikidata using SPARQL and return the results as a Pandas DataFrame or a list\n",
        "    of values for a specific key.\n",
        "    \"\"\"\n",
        "    def __init__(self, query: str):\n",
        "        \"\"\"\n",
        "        Initializes the WikiDataQueryResults object with a SPARQL query string.\n",
        "        :param query: A SPARQL query string.\n",
        "        \"\"\"\n",
        "        self.user_agent = \"WDQS-example Python/%s.%s\" % (sys.version_info[0], sys.version_info[1])\n",
        "        self.endpoint_url = \"https://query.wikidata.org/sparql\"\n",
        "        self.sparql = SPARQLWrapper(self.endpoint_url, agent=self.user_agent)\n",
        "        self.sparql.setQuery(query)\n",
        "        self.sparql.setReturnFormat(JSON)\n",
        "\n",
        "    def __transform2dicts(self, results: List[Dict]) -> List[Dict]:\n",
        "        \"\"\"\n",
        "        Helper function to transform SPARQL query results into a list of dictionaries.\n",
        "        :param results: A list of query results returned by SPARQLWrapper.\n",
        "        :return: A list of dictionaries, where each dictionary represents a result row and has keys corresponding to the\n",
        "        variables in the SPARQL SELECT clause.\n",
        "        \"\"\"\n",
        "        new_results = []\n",
        "        for result in results:\n",
        "            new_result = {}\n",
        "            for key in result:\n",
        "                new_result[key] = result[key]['value']\n",
        "            new_results.append(new_result)\n",
        "        return new_results\n",
        "\n",
        "    def _load(self) -> List[Dict]:\n",
        "        \"\"\"\n",
        "        Helper function that loads the data from Wikidata using the SPARQLWrapper library, and transforms the results into\n",
        "        a list of dictionaries.\n",
        "        :return: A list of dictionaries, where each dictionary represents a result row and has keys corresponding to the\n",
        "        variables in the SPARQL SELECT clause.\n",
        "        \"\"\"\n",
        "        results = self.sparql.queryAndConvert()['results']['bindings']\n",
        "        results = self.__transform2dicts(results)\n",
        "        return results\n",
        "\n",
        "    def load_as_dataframe(self) -> pd.DataFrame:\n",
        "        \"\"\"\n",
        "        Executes the SPARQL query and returns the results as a Pandas DataFrame.\n",
        "        :return: A Pandas DataFrame representing the query results.\n",
        "        \"\"\"\n",
        "        results = self._load()\n",
        "        return pd.DataFrame.from_dict(results)"
      ]
    },
    {
      "cell_type": "markdown",
      "source": [
        "### Example query\n",
        "Query that retrieves the name, location, and founding date of all cities in the United States"
      ],
      "metadata": {
        "id": "t1ZPal3fl409"
      }
    },
    {
      "cell_type": "code",
      "source": [
        "query = \"\"\"\n",
        "SELECT ?city ?cityLabel ?location ?locationLabel ?founding_date\n",
        "WHERE {\n",
        "  ?city wdt:P31/wdt:P279* wd:Q515.\n",
        "  ?city wdt:P17 wd:Q30.\n",
        "  ?city wdt:P625 ?location.\n",
        "  ?city wdt:P571 ?founding_date.\n",
        "  SERVICE wikibase:label { bd:serviceParam wikibase:language \"en\". }\n",
        "}\n",
        "\"\"\""
      ],
      "metadata": {
        "id": "m5HWVWBM1cK6"
      },
      "execution_count": null,
      "outputs": []
    },
    {
      "cell_type": "code",
      "source": [
        "data_extracter = WikiDataQueryResults(query)\n",
        "df = data_extracter.load_as_dataframe()\n",
        "df"
      ],
      "metadata": {
        "id": "KzAYuhWNAhPS",
        "outputId": "0a2a0559-0f5d-4b24-9db3-b919a3eb06a4",
        "colab": {
          "base_uri": "https://localhost:8080/"
        }
      },
      "execution_count": null,
      "outputs": [
        {
          "output_type": "stream",
          "name": "stdout",
          "text": [
            "                                    city         founding_date  \\\n",
            "0     http://www.wikidata.org/entity/Q62  1776-06-29T00:00:00Z   \n",
            "1  http://www.wikidata.org/entity/Q16554  1858-11-22T00:00:00Z   \n",
            "2  http://www.wikidata.org/entity/Q16568  1791-01-01T00:00:00Z   \n",
            "3  http://www.wikidata.org/entity/Q23197  1779-01-01T00:00:00Z   \n",
            "4  http://www.wikidata.org/entity/Q25330  1719-01-01T00:00:00Z   \n",
            "\n",
            "                             location      cityLabel  \\\n",
            "0       Point(-122.416388888 37.7775)  San Francisco   \n",
            "1  Point(-104.984722222 39.739166666)         Denver   \n",
            "2          Point(-81.65 30.316666666)   Jacksonville   \n",
            "3   Point(-86.774444444 36.162222222)      Nashville   \n",
            "4   Point(-74.765833333 40.220277777)        Trenton   \n",
            "\n",
            "                        locationLabel  \n",
            "0       Point(-122.416388888 37.7775)  \n",
            "1  Point(-104.984722222 39.739166666)  \n",
            "2          Point(-81.65 30.316666666)  \n",
            "3   Point(-86.774444444 36.162222222)  \n",
            "4   Point(-74.765833333 40.220277777)  \n"
          ]
        }
      ]
    },
    {
      "cell_type": "markdown",
      "source": [
        "### Query to retrieve people born in Andalusia, their place of birth, date of birth and occupation.\n",
        "\n",
        "Use https://query.wikidata.org/ to develop the query"
      ],
      "metadata": {
        "id": "TfvDjGDjmFkd"
      }
    },
    {
      "cell_type": "code",
      "source": [
        "query=\"\"\"\n",
        "SELECT ?item ?itemLabel ?occupationLabel ?place ?placeLabel ?coord ?birthyear\n",
        "WHERE {\n",
        "    ?item wdt:P31 wd:Q5.\n",
        "    ?item wdt:P19/wdt:P131* wd:Q5783.\n",
        "    ?item wdt:P106 ?occupation.\n",
        "    ?item wdt:P569 ?birthyear.\n",
        "    ?item wdt:P19 ?place.\n",
        "    ?place wdt:P625 ?coord.\n",
        "    SERVICE wikibase:label { bd:serviceParam wikibase:language \"[AUTO_LANGUAGE],es\". }\n",
        "}\n",
        "\"\"\""
      ],
      "metadata": {
        "id": "IemnAp0sAN_B"
      },
      "execution_count": 3,
      "outputs": []
    },
    {
      "cell_type": "code",
      "source": [
        "data_extracter = WikiDataQueryResults(query)\n",
        "df = data_extracter.load_as_dataframe()\n",
        "df"
      ],
      "metadata": {
        "id": "eMK8Ouxp2YJs"
      },
      "execution_count": null,
      "outputs": []
    },
    {
      "cell_type": "code",
      "source": [
        "df.columns"
      ],
      "metadata": {
        "id": "NWKgziYprC7Z",
        "outputId": "a8e36d82-3efc-4be3-a975-91d455d12307",
        "colab": {
          "base_uri": "https://localhost:8080/"
        }
      },
      "execution_count": 6,
      "outputs": [
        {
          "output_type": "execute_result",
          "data": {
            "text/plain": [
              "Index(['item', 'place', 'birthyear', 'coord', 'itemLabel', 'occupationLabel',\n",
              "       'placeLabel'],\n",
              "      dtype='object')"
            ]
          },
          "metadata": {},
          "execution_count": 6
        }
      ]
    },
    {
      "cell_type": "code",
      "source": [
        "df.occupationLabel.value_counts()[:50]"
      ],
      "metadata": {
        "id": "AdCseIb9rDyv"
      },
      "execution_count": null,
      "outputs": []
    },
    {
      "cell_type": "code",
      "source": [
        "df[df.occupationLabel.str.contains(\"pol\")==True].occupationLabel.value_counts()"
      ],
      "metadata": {
        "id": "_NgusFczrJ9m",
        "outputId": "dc317824-e93a-4b51-e0d7-52294481e02b",
        "colab": {
          "base_uri": "https://localhost:8080/"
        }
      },
      "execution_count": 29,
      "outputs": [
        {
          "output_type": "execute_result",
          "data": {
            "text/plain": [
              "político                 1924\n",
              "politólogo                 12\n",
              "activista político          7\n",
              "policía                     4\n",
              "polista                     2\n",
              "político municipal          2\n",
              "asesor político             1\n",
              "comisario de policía        1\n",
              "polígrafo                   1\n",
              "comentarista político       1\n",
              "filósofo político           1\n",
              "waterpolista                1\n",
              "Name: occupationLabel, dtype: int64"
            ]
          },
          "metadata": {},
          "execution_count": 29
        }
      ]
    },
    {
      "cell_type": "markdown",
      "source": [
        "#### 1. Nos quedamos con los politicos"
      ],
      "metadata": {
        "id": "rgj9J4pytxtY"
      }
    },
    {
      "cell_type": "code",
      "source": [
        "pol=df.loc[df.occupationLabel==\"político\"]"
      ],
      "metadata": {
        "id": "vP-Yn67Csxjd"
      },
      "execution_count": 81,
      "outputs": []
    },
    {
      "cell_type": "markdown",
      "source": [
        "#### 2. Duplicados"
      ],
      "metadata": {
        "id": "WP63RJ3evaug"
      }
    },
    {
      "cell_type": "code",
      "source": [
        "pol.item.duplicated().any()"
      ],
      "metadata": {
        "id": "mdm90PBMuAaN",
        "outputId": "73393561-acdf-4454-8a85-242e7c4fe539",
        "colab": {
          "base_uri": "https://localhost:8080/"
        }
      },
      "execution_count": 82,
      "outputs": [
        {
          "output_type": "execute_result",
          "data": {
            "text/plain": [
              "True"
            ]
          },
          "metadata": {},
          "execution_count": 82
        }
      ]
    },
    {
      "cell_type": "markdown",
      "source": [
        "Vemos que hay duplicados, que en teoría no debería haberlos. Eso es porque para algunas entradas hay varias fechas de nacimiento o varios lugares de nacimiento. Por tanto, hay que limpiar los datos."
      ],
      "metadata": {
        "id": "Dk6H4t9SveNf"
      }
    },
    {
      "cell_type": "code",
      "source": [
        "# 1. Eliminar los placeLabel que contengan \"provincia\". Estas observaciones tan imprecisas no son útiles\n",
        "pol=pol.loc[pol.placeLabel.str.contains(\"provincia\")==False]"
      ],
      "metadata": {
        "id": "av78mfaMuIIV"
      },
      "execution_count": 83,
      "outputs": []
    },
    {
      "cell_type": "code",
      "source": [
        "# 2. Eliminar los placeLabel que contengan \"Andalucía\".\n",
        "pol=pol.loc[pol.placeLabel.str.contains(\"Andalucía\")==False]"
      ],
      "metadata": {
        "id": "xj-TWHmuuNen"
      },
      "execution_count": 84,
      "outputs": []
    },
    {
      "cell_type": "code",
      "source": [
        "# 3. Nos quedamos con uno, el que resulte de aplicar la función\n",
        "pol=pol.groupby(by=\"item\", as_index=False).first()"
      ],
      "metadata": {
        "id": "V4K6Nh7rzrgm"
      },
      "execution_count": 85,
      "outputs": []
    },
    {
      "cell_type": "markdown",
      "source": [
        "#### 3. Procesamos la fecha de nacimiento"
      ],
      "metadata": {
        "id": "ZTBG48D55NqY"
      }
    },
    {
      "cell_type": "code",
      "source": [
        "pol['dob']=pol.birthyear.str[:4]"
      ],
      "metadata": {
        "id": "Z_-HydSZz8AO"
      },
      "execution_count": 86,
      "outputs": []
    },
    {
      "cell_type": "code",
      "source": [
        "pol=pol.loc[pol.dob!=\"http\"] # Registros sin fecha de nacimiento"
      ],
      "metadata": {
        "id": "dWJdYaeU08zV"
      },
      "execution_count": 87,
      "outputs": []
    },
    {
      "cell_type": "code",
      "source": [
        "pol['dob']=pol.dob.astype(int)"
      ],
      "metadata": {
        "id": "aHVEvp6L1c4l",
        "outputId": "c5a5587b-8554-4611-96b5-8a5e4fb002d1",
        "colab": {
          "base_uri": "https://localhost:8080/"
        }
      },
      "execution_count": 88,
      "outputs": [
        {
          "output_type": "stream",
          "name": "stderr",
          "text": [
            "<ipython-input-88-7dd7915d049d>:1: SettingWithCopyWarning: \n",
            "A value is trying to be set on a copy of a slice from a DataFrame.\n",
            "Try using .loc[row_indexer,col_indexer] = value instead\n",
            "\n",
            "See the caveats in the documentation: https://pandas.pydata.org/pandas-docs/stable/user_guide/indexing.html#returning-a-view-versus-a-copy\n",
            "  pol['dob']=pol.dob.astype(int)\n"
          ]
        }
      ]
    },
    {
      "cell_type": "code",
      "source": [
        "pol.dob.hist()"
      ],
      "metadata": {
        "id": "zWqsLMnq5q1N",
        "outputId": "c7d426ea-2fe5-4604-f3ae-a004825a030e",
        "colab": {
          "base_uri": "https://localhost:8080/",
          "height": 0
        }
      },
      "execution_count": 89,
      "outputs": [
        {
          "output_type": "execute_result",
          "data": {
            "text/plain": [
              "<Axes: >"
            ]
          },
          "metadata": {},
          "execution_count": 89
        },
        {
          "output_type": "display_data",
          "data": {
            "text/plain": [
              "<Figure size 640x480 with 1 Axes>"
            ],
            "image/png": "[encoded data removed]"
          },
          "metadata": {}
        }
      ]
    },
    {
      "cell_type": "markdown",
      "source": [
        "#### 4. Procesamos lugar de nacimiento"
      ],
      "metadata": {
        "id": "rfYMWOvr57eg"
      }
    },
    {
      "cell_type": "code",
      "source": [
        "import geopandas as gpd\n",
        "from shapely.geometry import Point"
      ],
      "metadata": {
        "id": "TubUwUdM5uUl"
      },
      "execution_count": 90,
      "outputs": []
    },
    {
      "cell_type": "code",
      "source": [
        "# Extraemos las coordenadas\n",
        "pol['pos_inicio_paren']=pol.coord.str.find(\"(\")\n",
        "pol['pos_espacio']=pol.coord.str.find(\" \")\n",
        "\n",
        "pol['lon'] = pol.apply(lambda x: x['coord'][x['pos_inicio_paren']+1:x['pos_espacio']], 1)\n",
        "pol['lat'] = pol.apply(lambda x: x['coord'][x['pos_espacio']+1:-1], 1)\n",
        "\n",
        "pol=pol.loc[pol.coord.str.contains(\"http\")==False]"
      ],
      "metadata": {
        "id": "PXgti3jY8cAC"
      },
      "execution_count": 118,
      "outputs": []
    },
    {
      "cell_type": "code",
      "source": [
        "# Columna con la geometría\n",
        "pol['geometry'] = gpd.points_from_xy(pol.lon, pol.lat, crs=\"EPSG:4326\")\n"
      ],
      "metadata": {
        "id": "I667Y12o_OhJ",
        "outputId": "61e1aae1-587d-4ab4-bae7-5c5cc084c627",
        "colab": {
          "base_uri": "https://localhost:8080/"
        }
      },
      "execution_count": 120,
      "outputs": [
        {
          "output_type": "stream",
          "name": "stderr",
          "text": [
            "<ipython-input-120-76362e566a54>:2: SettingWithCopyWarning: \n",
            "A value is trying to be set on a copy of a slice from a DataFrame.\n",
            "Try using .loc[row_indexer,col_indexer] = value instead\n",
            "\n",
            "See the caveats in the documentation: https://pandas.pydata.org/pandas-docs/stable/user_guide/indexing.html#returning-a-view-versus-a-copy\n",
            "  pol['geometry'] = gpd.points_from_xy(pol.lon, pol.lat, crs=\"EPSG:4326\")\n"
          ]
        }
      ]
    },
    {
      "cell_type": "code",
      "source": [
        "gdf=gpd.GeoDataFrame(pol,geometry=pol.geometry,crs=\"EPSG:4326\")"
      ],
      "metadata": {
        "id": "aHvBdQR0520G"
      },
      "execution_count": 121,
      "outputs": []
    },
    {
      "cell_type": "markdown",
      "source": [
        "#### 5. Importamos capa municipios y asignamos códigos"
      ],
      "metadata": {
        "id": "SASA4LK1Co2Y"
      }
    },
    {
      "cell_type": "code",
      "source": [
        "m=gpd.read_file('municipio_proj.shp')\n",
        "m=m[m.CODIGOINE!=\"22028/22106\"]\n",
        "m['mun_code']=m.CODIGOINE.astype(\"int64\")\n",
        "m=m[m.mun_code<53000]\n",
        "m=m[['mun_code', 'geometry']]"
      ],
      "metadata": {
        "id": "5k-b0FJZ6Z4r"
      },
      "execution_count": 123,
      "outputs": []
    },
    {
      "cell_type": "code",
      "source": [
        "gdf=gdf.to_crs(m.crs)"
      ],
      "metadata": {
        "id": "TXNSdCmoCbsO"
      },
      "execution_count": 124,
      "outputs": []
    },
    {
      "cell_type": "code",
      "source": [
        "final=gpd.sjoin(gdf,m,)"
      ],
      "metadata": {
        "id": "DmTzrSEaEWDv"
      },
      "execution_count": 125,
      "outputs": []
    },
    {
      "cell_type": "code",
      "source": [
        "final"
      ],
      "metadata": {
        "id": "LIUgh4rNEwyK",
        "outputId": "c226ddf1-3dbd-4ef7-e4d8-05a9899f6652",
        "colab": {
          "base_uri": "https://localhost:8080/",
          "height": 791
        }
      },
      "execution_count": 133,
      "outputs": [
        {
          "output_type": "execute_result",
          "data": {
            "text/plain": [
              "                                           item  \\\n",
              "0     http://www.wikidata.org/entity/Q100152810   \n",
              "8     http://www.wikidata.org/entity/Q100754251   \n",
              "15    http://www.wikidata.org/entity/Q100755031   \n",
              "18    http://www.wikidata.org/entity/Q100755269   \n",
              "380    http://www.wikidata.org/entity/Q19984008   \n",
              "...                                         ...   \n",
              "1699   http://www.wikidata.org/entity/Q93125628   \n",
              "1725   http://www.wikidata.org/entity/Q95143924   \n",
              "1731     http://www.wikidata.org/entity/Q964443   \n",
              "1739     http://www.wikidata.org/entity/Q981646   \n",
              "1741   http://www.wikidata.org/entity/Q98539754   \n",
              "\n",
              "                                        place             birthyear  \\\n",
              "0       http://www.wikidata.org/entity/Q49562  1847-01-01T00:00:00Z   \n",
              "8       http://www.wikidata.org/entity/Q49562  1824-01-01T00:00:00Z   \n",
              "15      http://www.wikidata.org/entity/Q49562  1829-01-01T00:00:00Z   \n",
              "18      http://www.wikidata.org/entity/Q49562  1798-01-01T00:00:00Z   \n",
              "380     http://www.wikidata.org/entity/Q49562  1934-07-22T00:00:00Z   \n",
              "...                                       ...                   ...   \n",
              "1699   http://www.wikidata.org/entity/Q842658  1873-02-05T00:00:00Z   \n",
              "1725  http://www.wikidata.org/entity/Q1448408  1944-01-01T00:00:00Z   \n",
              "1731   http://www.wikidata.org/entity/Q611298  1782-03-17T00:00:00Z   \n",
              "1739   http://www.wikidata.org/entity/Q932362  1957-12-15T00:00:00Z   \n",
              "1741  http://www.wikidata.org/entity/Q1630141  1980-01-01T00:00:00Z   \n",
              "\n",
              "                                 coord                 itemLabel  \\\n",
              "0            Point(-3.016666666 36.75)  Rafael Sierra Valenzuela   \n",
              "8            Point(-3.016666666 36.75)    Fernando Roda González   \n",
              "15           Point(-3.016666666 36.75)         Juan Lirola Gómez   \n",
              "18           Point(-3.016666666 36.75)     Miguel Chacón y Durán   \n",
              "380          Point(-3.016666666 36.75)   Nicolás Linares Navarro   \n",
              "...                                ...                       ...   \n",
              "1699      Point(-2.1239207 37.0981986)   Juan Piqueras y Vázquez   \n",
              "1725      Point(-4.4987079 37.9399109)  Manuel Armenteros Molina   \n",
              "1731        Point(-3.555 36.910277777)    Juan José Bonel y Orbe   \n",
              "1739  Point(-2.894722222 38.320833333)           Valeriano Gómez   \n",
              "1741  Point(-4.011944444 36.798055555)       Luis Gordillo Pérez   \n",
              "\n",
              "     occupationLabel         placeLabel   dob  pos_inicio_paren  pos_espacio  \\\n",
              "0           político               Adra  1847                 5           18   \n",
              "8           político               Adra  1824                 5           18   \n",
              "15          político               Adra  1829                 5           18   \n",
              "18          político               Adra  1798                 5           18   \n",
              "380         político               Adra  1934                 5           18   \n",
              "...              ...                ...   ...               ...          ...   \n",
              "1699        político             Sorbas  1873                 5           16   \n",
              "1725        político          El Carpio  1944                 5           16   \n",
              "1731        político           El Pinar  1782                 5           12   \n",
              "1739        político  Arroyo del Ojanco  1957                 5           18   \n",
              "1741        político          Sayalonga  1980                 5           18   \n",
              "\n",
              "               lon           lat                         geometry  \\\n",
              "0     -3.016666666         36.75  POINT (3154834.594 1619239.041)   \n",
              "8     -3.016666666         36.75  POINT (3154834.594 1619239.041)   \n",
              "15    -3.016666666         36.75  POINT (3154834.594 1619239.041)   \n",
              "18    -3.016666666         36.75  POINT (3154834.594 1619239.041)   \n",
              "380   -3.016666666         36.75  POINT (3154834.594 1619239.041)   \n",
              "...            ...           ...                              ...   \n",
              "1699    -2.1239207    37.0981986  POINT (3239416.334 1644132.525)   \n",
              "1725    -4.4987079    37.9399109  POINT (3045820.048 1772505.329)   \n",
              "1731        -3.555  36.910277777  POINT (3109918.921 1645047.576)   \n",
              "1739  -2.894722222  38.320833333  POINT (3191645.333 1788757.505)   \n",
              "1741  -4.011944444  36.798055555  POINT (3067595.999 1640176.604)   \n",
              "\n",
              "      index_right  mun_code  \n",
              "0             282      4003  \n",
              "8             282      4003  \n",
              "15            282      4003  \n",
              "18            282      4003  \n",
              "380           282      4003  \n",
              "...           ...       ...  \n",
              "1699          361      4086  \n",
              "1725         2064     14018  \n",
              "1731         2838     18910  \n",
              "1739         3594     23905  \n",
              "1741         4541     29086  \n",
              "\n",
              "[1619 rows x 15 columns]"
            ],
            "text/html": [
              "\n",
              "  <div id=\"df-83f18ad0-bdbc-4f2f-b540-3254b58175aa\" class=\"colab-df-container\">\n",
              "    <div>\n",
              "<style scoped>\n",
              "    .dataframe tbody tr th:only-of-type {\n",
              "        vertical-align: middle;\n",
              "    }\n",
              "\n",
              "    .dataframe tbody tr th {\n",
              "        vertical-align: top;\n",
              "    }\n",
              "\n",
              "    .dataframe thead th {\n",
              "        text-align: right;\n",
              "    }\n",
              "</style>\n",
              "<table border=\"1\" class=\"dataframe\">\n",
              "  <thead>\n",
              "    <tr style=\"text-align: right;\">\n",
              "      <th></th>\n",
              "      <th>item</th>\n",
              "      <th>place</th>\n",
              "      <th>birthyear</th>\n",
              "      <th>coord</th>\n",
              "      <th>itemLabel</th>\n",
              "      <th>occupationLabel</th>\n",
              "      <th>placeLabel</th>\n",
              "      <th>dob</th>\n",
              "      <th>pos_inicio_paren</th>\n",
              "      <th>pos_espacio</th>\n",
              "      <th>lon</th>\n",
              "      <th>lat</th>\n",
              "      <th>geometry</th>\n",
              "      <th>index_right</th>\n",
              "      <th>mun_code</th>\n",
              "    </tr>\n",
              "  </thead>\n",
              "  <tbody>\n",
              "    <tr>\n",
              "      <th>0</th>\n",
              "      <td>http://www.wikidata.org/entity/Q100152810</td>\n",
              "      <td>http://www.wikidata.org/entity/Q49562</td>\n",
              "      <td>1847-01-01T00:00:00Z</td>\n",
              "      <td>Point(-3.016666666 36.75)</td>\n",
              "      <td>Rafael Sierra Valenzuela</td>\n",
              "      <td>político</td>\n",
              "      <td>Adra</td>\n",
              "      <td>1847</td>\n",
              "      <td>5</td>\n",
              "      <td>18</td>\n",
              "      <td>-3.016666666</td>\n",
              "      <td>36.75</td>\n",
              "      <td>POINT (3154834.594 1619239.041)</td>\n",
              "      <td>282</td>\n",
              "      <td>4003</td>\n",
              "    </tr>\n",
              "    <tr>\n",
              "      <th>8</th>\n",
              "      <td>http://www.wikidata.org/entity/Q100754251</td>\n",
              "      <td>http://www.wikidata.org/entity/Q49562</td>\n",
              "      <td>1824-01-01T00:00:00Z</td>\n",
              "      <td>Point(-3.016666666 36.75)</td>\n",
              "      <td>Fernando Roda González</td>\n",
              "      <td>político</td>\n",
              "      <td>Adra</td>\n",
              "      <td>1824</td>\n",
              "      <td>5</td>\n",
              "      <td>18</td>\n",
              "      <td>-3.016666666</td>\n",
              "      <td>36.75</td>\n",
              "      <td>POINT (3154834.594 1619239.041)</td>\n",
              "      <td>282</td>\n",
              "      <td>4003</td>\n",
              "    </tr>\n",
              "    <tr>\n",
              "      <th>15</th>\n",
              "      <td>http://www.wikidata.org/entity/Q100755031</td>\n",
              "      <td>http://www.wikidata.org/entity/Q49562</td>\n",
              "      <td>1829-01-01T00:00:00Z</td>\n",
              "      <td>Point(-3.016666666 36.75)</td>\n",
              "      <td>Juan Lirola Gómez</td>\n",
              "      <td>político</td>\n",
              "      <td>Adra</td>\n",
              "      <td>1829</td>\n",
              "      <td>5</td>\n",
              "      <td>18</td>\n",
              "      <td>-3.016666666</td>\n",
              "      <td>36.75</td>\n",
              "      <td>POINT (3154834.594 1619239.041)</td>\n",
              "      <td>282</td>\n",
              "      <td>4003</td>\n",
              "    </tr>\n",
              "    <tr>\n",
              "      <th>18</th>\n",
              "      <td>http://www.wikidata.org/entity/Q100755269</td>\n",
              "      <td>http://www.wikidata.org/entity/Q49562</td>\n",
              "      <td>1798-01-01T00:00:00Z</td>\n",
              "      <td>Point(-3.016666666 36.75)</td>\n",
              "      <td>Miguel Chacón y Durán</td>\n",
              "      <td>político</td>\n",
              "      <td>Adra</td>\n",
              "      <td>1798</td>\n",
              "      <td>5</td>\n",
              "      <td>18</td>\n",
              "      <td>-3.016666666</td>\n",
              "      <td>36.75</td>\n",
              "      <td>POINT (3154834.594 1619239.041)</td>\n",
              "      <td>282</td>\n",
              "      <td>4003</td>\n",
              "    </tr>\n",
              "    <tr>\n",
              "      <th>380</th>\n",
              "      <td>http://www.wikidata.org/entity/Q19984008</td>\n",
              "      <td>http://www.wikidata.org/entity/Q49562</td>\n",
              "      <td>1934-07-22T00:00:00Z</td>\n",
              "      <td>Point(-3.016666666 36.75)</td>\n",
              "      <td>Nicolás Linares Navarro</td>\n",
              "      <td>político</td>\n",
              "      <td>Adra</td>\n",
              "      <td>1934</td>\n",
              "      <td>5</td>\n",
              "      <td>18</td>\n",
              "      <td>-3.016666666</td>\n",
              "      <td>36.75</td>\n",
              "      <td>POINT (3154834.594 1619239.041)</td>\n",
              "      <td>282</td>\n",
              "      <td>4003</td>\n",
              "    </tr>\n",
              "    <tr>\n",
              "      <th>...</th>\n",
              "      <td>...</td>\n",
              "      <td>...</td>\n",
              "      <td>...</td>\n",
              "      <td>...</td>\n",
              "      <td>...</td>\n",
              "      <td>...</td>\n",
              "      <td>...</td>\n",
              "      <td>...</td>\n",
              "      <td>...</td>\n",
              "      <td>...</td>\n",
              "      <td>...</td>\n",
              "      <td>...</td>\n",
              "      <td>...</td>\n",
              "      <td>...</td>\n",
              "      <td>...</td>\n",
              "    </tr>\n",
              "    <tr>\n",
              "      <th>1699</th>\n",
              "      <td>http://www.wikidata.org/entity/Q93125628</td>\n",
              "      <td>http://www.wikidata.org/entity/Q842658</td>\n",
              "      <td>1873-02-05T00:00:00Z</td>\n",
              "      <td>Point(-2.1239207 37.0981986)</td>\n",
              "      <td>Juan Piqueras y Vázquez</td>\n",
              "      <td>político</td>\n",
              "      <td>Sorbas</td>\n",
              "      <td>1873</td>\n",
              "      <td>5</td>\n",
              "      <td>16</td>\n",
              "      <td>-2.1239207</td>\n",
              "      <td>37.0981986</td>\n",
              "      <td>POINT (3239416.334 1644132.525)</td>\n",
              "      <td>361</td>\n",
              "      <td>4086</td>\n",
              "    </tr>\n",
              "    <tr>\n",
              "      <th>1725</th>\n",
              "      <td>http://www.wikidata.org/entity/Q95143924</td>\n",
              "      <td>http://www.wikidata.org/entity/Q1448408</td>\n",
              "      <td>1944-01-01T00:00:00Z</td>\n",
              "      <td>Point(-4.4987079 37.9399109)</td>\n",
              "      <td>Manuel Armenteros Molina</td>\n",
              "      <td>político</td>\n",
              "      <td>El Carpio</td>\n",
              "      <td>1944</td>\n",
              "      <td>5</td>\n",
              "      <td>16</td>\n",
              "      <td>-4.4987079</td>\n",
              "      <td>37.9399109</td>\n",
              "      <td>POINT (3045820.048 1772505.329)</td>\n",
              "      <td>2064</td>\n",
              "      <td>14018</td>\n",
              "    </tr>\n",
              "    <tr>\n",
              "      <th>1731</th>\n",
              "      <td>http://www.wikidata.org/entity/Q964443</td>\n",
              "      <td>http://www.wikidata.org/entity/Q611298</td>\n",
              "      <td>1782-03-17T00:00:00Z</td>\n",
              "      <td>Point(-3.555 36.910277777)</td>\n",
              "      <td>Juan José Bonel y Orbe</td>\n",
              "      <td>político</td>\n",
              "      <td>El Pinar</td>\n",
              "      <td>1782</td>\n",
              "      <td>5</td>\n",
              "      <td>12</td>\n",
              "      <td>-3.555</td>\n",
              "      <td>36.910277777</td>\n",
              "      <td>POINT (3109918.921 1645047.576)</td>\n",
              "      <td>2838</td>\n",
              "      <td>18910</td>\n",
              "    </tr>\n",
              "    <tr>\n",
              "      <th>1739</th>\n",
              "      <td>http://www.wikidata.org/entity/Q981646</td>\n",
              "      <td>http://www.wikidata.org/entity/Q932362</td>\n",
              "      <td>1957-12-15T00:00:00Z</td>\n",
              "      <td>Point(-2.894722222 38.320833333)</td>\n",
              "      <td>Valeriano Gómez</td>\n",
              "      <td>político</td>\n",
              "      <td>Arroyo del Ojanco</td>\n",
              "      <td>1957</td>\n",
              "      <td>5</td>\n",
              "      <td>18</td>\n",
              "      <td>-2.894722222</td>\n",
              "      <td>38.320833333</td>\n",
              "      <td>POINT (3191645.333 1788757.505)</td>\n",
              "      <td>3594</td>\n",
              "      <td>23905</td>\n",
              "    </tr>\n",
              "    <tr>\n",
              "      <th>1741</th>\n",
              "      <td>http://www.wikidata.org/entity/Q98539754</td>\n",
              "      <td>http://www.wikidata.org/entity/Q1630141</td>\n",
              "      <td>1980-01-01T00:00:00Z</td>\n",
              "      <td>Point(-4.011944444 36.798055555)</td>\n",
              "      <td>Luis Gordillo Pérez</td>\n",
              "      <td>político</td>\n",
              "      <td>Sayalonga</td>\n",
              "      <td>1980</td>\n",
              "      <td>5</td>\n",
              "      <td>18</td>\n",
              "      <td>-4.011944444</td>\n",
              "      <td>36.798055555</td>\n",
              "      <td>POINT (3067595.999 1640176.604)</td>\n",
              "      <td>4541</td>\n",
              "      <td>29086</td>\n",
              "    </tr>\n",
              "  </tbody>\n",
              "</table>\n",
              "<p>1619 rows × 15 columns</p>\n",
              "</div>\n",
              "    <div class=\"colab-df-buttons\">\n",
              "\n",
              "  <div class=\"colab-df-container\">\n",
              "    <button class=\"colab-df-convert\" onclick=\"convertToInteractive('df-83f18ad0-bdbc-4f2f-b540-3254b58175aa')\"\n",
              "            title=\"Convert this dataframe to an interactive table.\"\n",
              "            style=\"display:none;\">\n",
              "\n",
              "  <svg xmlns=\"http://www.w3.org/2000/svg\" height=\"24px\" viewBox=\"0 -960 960 960\">\n",
              "    <path d=\"M120-120v-720h720v720H120Zm60-500h600v-160H180v160Zm220 220h160v-160H400v160Zm0 220h160v-160H400v160ZM180-400h160v-160H180v160Zm440 0h160v-160H620v160ZM180-180h160v-160H180v160Zm440 0h160v-160H620v160Z\"/>\n",
              "  </svg>\n",
              "    </button>\n",
              "\n",
              "  <style>\n",
              "    .colab-df-container {\n",
              "      display:flex;\n",
              "      gap: 12px;\n",
              "    }\n",
              "\n",
              "    .colab-df-convert {\n",
              "      background-color: #E8F0FE;\n",
              "      border: none;\n",
              "      border-radius: 50%;\n",
              "      cursor: pointer;\n",
              "      display: none;\n",
              "      fill: #1967D2;\n",
              "      height: 32px;\n",
              "      padding: 0 0 0 0;\n",
              "      width: 32px;\n",
              "    }\n",
              "\n",
              "    .colab-df-convert:hover {\n",
              "      background-color: #E2EBFA;\n",
              "      box-shadow: 0px 1px 2px rgba(60, 64, 67, 0.3), 0px 1px 3px 1px rgba(60, 64, 67, 0.15);\n",
              "      fill: #174EA6;\n",
              "    }\n",
              "\n",
              "    .colab-df-buttons div {\n",
              "      margin-bottom: 4px;\n",
              "    }\n",
              "\n",
              "    [theme=dark] .colab-df-convert {\n",
              "      background-color: #3B4455;\n",
              "      fill: #D2E3FC;\n",
              "    }\n",
              "\n",
              "    [theme=dark] .colab-df-convert:hover {\n",
              "      background-color: #434B5C;\n",
              "      box-shadow: 0px 1px 3px 1px rgba(0, 0, 0, 0.15);\n",
              "      filter: drop-shadow(0px 1px 2px rgba(0, 0, 0, 0.3));\n",
              "      fill: #FFFFFF;\n",
              "    }\n",
              "  </style>\n",
              "\n",
              "    <script>\n",
              "      const buttonEl =\n",
              "        document.querySelector('#df-83f18ad0-bdbc-4f2f-b540-3254b58175aa button.colab-df-convert');\n",
              "      buttonEl.style.display =\n",
              "        google.colab.kernel.accessAllowed ? 'block' : 'none';\n",
              "\n",
              "      async function convertToInteractive(key) {\n",
              "        const element = document.querySelector('#df-83f18ad0-bdbc-4f2f-b540-3254b58175aa');\n",
              "        const dataTable =\n",
              "          await google.colab.kernel.invokeFunction('convertToInteractive',\n",
              "                                                    [key], {});\n",
              "        if (!dataTable) return;\n",
              "\n",
              "        const docLinkHtml = 'Like what you see? Visit the ' +\n",
              "          '<a target=\"_blank\" href=https://colab.research.google.com/notebooks/data_table.ipynb>data table notebook</a>'\n",
              "          + ' to learn more about interactive tables.';\n",
              "        element.innerHTML = '';\n",
              "        dataTable['output_type'] = 'display_data';\n",
              "        await google.colab.output.renderOutput(dataTable, element);\n",
              "        const docLink = document.createElement('div');\n",
              "        docLink.innerHTML = docLinkHtml;\n",
              "        element.appendChild(docLink);\n",
              "      }\n",
              "    </script>\n",
              "  </div>\n",
              "\n",
              "\n",
              "<div id=\"df-b6844030-6b7f-4d96-b83e-542bfbf851f9\">\n",
              "  <button class=\"colab-df-quickchart\" onclick=\"quickchart('df-b6844030-6b7f-4d96-b83e-542bfbf851f9')\"\n",
              "            title=\"Suggest charts\"\n",
              "            style=\"display:none;\">\n",
              "\n",
              "<svg xmlns=\"http://www.w3.org/2000/svg\" height=\"24px\"viewBox=\"0 0 24 24\"\n",
              "     width=\"24px\">\n",
              "    <g>\n",
              "        <path d=\"M19 3H5c-1.1 0-2 .9-2 2v14c0 1.1.9 2 2 2h14c1.1 0 2-.9 2-2V5c0-1.1-.9-2-2-2zM9 17H7v-7h2v7zm4 0h-2V7h2v10zm4 0h-2v-4h2v4z\"/>\n",
              "    </g>\n",
              "</svg>\n",
              "  </button>\n",
              "\n",
              "<style>\n",
              "  .colab-df-quickchart {\n",
              "      --bg-color: #E8F0FE;\n",
              "      --fill-color: #1967D2;\n",
              "      --hover-bg-color: #E2EBFA;\n",
              "      --hover-fill-color: #174EA6;\n",
              "      --disabled-fill-color: #AAA;\n",
              "      --disabled-bg-color: #DDD;\n",
              "  }\n",
              "\n",
              "  [theme=dark] .colab-df-quickchart {\n",
              "      --bg-color: #3B4455;\n",
              "      --fill-color: #D2E3FC;\n",
              "      --hover-bg-color: #434B5C;\n",
              "      --hover-fill-color: #FFFFFF;\n",
              "      --disabled-bg-color: #3B4455;\n",
              "      --disabled-fill-color: #666;\n",
              "  }\n",
              "\n",
              "  .colab-df-quickchart {\n",
              "    background-color: var(--bg-color);\n",
              "    border: none;\n",
              "    border-radius: 50%;\n",
              "    cursor: pointer;\n",
              "    display: none;\n",
              "    fill: var(--fill-color);\n",
              "    height: 32px;\n",
              "    padding: 0;\n",
              "    width: 32px;\n",
              "  }\n",
              "\n",
              "  .colab-df-quickchart:hover {\n",
              "    background-color: var(--hover-bg-color);\n",
              "    box-shadow: 0 1px 2px rgba(60, 64, 67, 0.3), 0 1px 3px 1px rgba(60, 64, 67, 0.15);\n",
              "    fill: var(--button-hover-fill-color);\n",
              "  }\n",
              "\n",
              "  .colab-df-quickchart-complete:disabled,\n",
              "  .colab-df-quickchart-complete:disabled:hover {\n",
              "    background-color: var(--disabled-bg-color);\n",
              "    fill: var(--disabled-fill-color);\n",
              "    box-shadow: none;\n",
              "  }\n",
              "\n",
              "  .colab-df-spinner {\n",
              "    border: 2px solid var(--fill-color);\n",
              "    border-color: transparent;\n",
              "    border-bottom-color: var(--fill-color);\n",
              "    animation:\n",
              "      spin 1s steps(1) infinite;\n",
              "  }\n",
              "\n",
              "  @keyframes spin {\n",
              "    0% {\n",
              "      border-color: transparent;\n",
              "      border-bottom-color: var(--fill-color);\n",
              "      border-left-color: var(--fill-color);\n",
              "    }\n",
              "    20% {\n",
              "      border-color: transparent;\n",
              "      border-left-color: var(--fill-color);\n",
              "      border-top-color: var(--fill-color);\n",
              "    }\n",
              "    30% {\n",
              "      border-color: transparent;\n",
              "      border-left-color: var(--fill-color);\n",
              "      border-top-color: var(--fill-color);\n",
              "      border-right-color: var(--fill-color);\n",
              "    }\n",
              "    40% {\n",
              "      border-color: transparent;\n",
              "      border-right-color: var(--fill-color);\n",
              "      border-top-color: var(--fill-color);\n",
              "    }\n",
              "    60% {\n",
              "      border-color: transparent;\n",
              "      border-right-color: var(--fill-color);\n",
              "    }\n",
              "    80% {\n",
              "      border-color: transparent;\n",
              "      border-right-color: var(--fill-color);\n",
              "      border-bottom-color: var(--fill-color);\n",
              "    }\n",
              "    90% {\n",
              "      border-color: transparent;\n",
              "      border-bottom-color: var(--fill-color);\n",
              "    }\n",
              "  }\n",
              "</style>\n",
              "\n",
              "  <script>\n",
              "    async function quickchart(key) {\n",
              "      const quickchartButtonEl =\n",
              "        document.querySelector('#' + key + ' button');\n",
              "      quickchartButtonEl.disabled = true;  // To prevent multiple clicks.\n",
              "      quickchartButtonEl.classList.add('colab-df-spinner');\n",
              "      try {\n",
              "        const charts = await google.colab.kernel.invokeFunction(\n",
              "            'suggestCharts', [key], {});\n",
              "      } catch (error) {\n",
              "        console.error('Error during call to suggestCharts:', error);\n",
              "      }\n",
              "      quickchartButtonEl.classList.remove('colab-df-spinner');\n",
              "      quickchartButtonEl.classList.add('colab-df-quickchart-complete');\n",
              "    }\n",
              "    (() => {\n",
              "      let quickchartButtonEl =\n",
              "        document.querySelector('#df-b6844030-6b7f-4d96-b83e-542bfbf851f9 button');\n",
              "      quickchartButtonEl.style.display =\n",
              "        google.colab.kernel.accessAllowed ? 'block' : 'none';\n",
              "    })();\n",
              "  </script>\n",
              "</div>\n",
              "    </div>\n",
              "  </div>\n"
            ],
            "application/vnd.google.colaboratory.intrinsic+json": {
              "type": "dataframe",
              "variable_name": "final",
              "summary": "{\n  \"name\": \"final\",\n  \"rows\": 1619,\n  \"fields\": [\n    {\n      \"column\": \"item\",\n      \"properties\": {\n        \"dtype\": \"string\",\n        \"num_unique_values\": 1619,\n        \"samples\": [\n          \"http://www.wikidata.org/entity/Q22661777\",\n          \"http://www.wikidata.org/entity/Q21077069\",\n          \"http://www.wikidata.org/entity/Q63850322\"\n        ],\n        \"semantic_type\": \"\",\n        \"description\": \"\"\n      }\n    },\n    {\n      \"column\": \"place\",\n      \"properties\": {\n        \"dtype\": \"category\",\n        \"num_unique_values\": 330,\n        \"samples\": [\n          \"http://www.wikidata.org/entity/Q1358351\",\n          \"http://www.wikidata.org/entity/Q12896923\",\n          \"http://www.wikidata.org/entity/Q13149\"\n        ],\n        \"semantic_type\": \"\",\n        \"description\": \"\"\n      }\n    },\n    {\n      \"column\": \"birthyear\",\n      \"properties\": {\n        \"dtype\": \"string\",\n        \"num_unique_values\": 1367,\n        \"samples\": [\n          \"1835-02-04T00:00:00Z\",\n          \"1856-12-28T00:00:00Z\",\n          \"1979-12-15T00:00:00Z\"\n        ],\n        \"semantic_type\": \"\",\n        \"description\": \"\"\n      }\n    },\n    {\n      \"column\": \"coord\",\n      \"properties\": {\n        \"dtype\": \"category\",\n        \"num_unique_values\": 330,\n        \"samples\": [\n          \"Point(-2.858333333 36.979166666)\",\n          \"Point(-6.31457 36.79244)\",\n          \"Point(-3.8790195 36.7468571)\"\n        ],\n        \"semantic_type\": \"\",\n        \"description\": \"\"\n      }\n    },\n    {\n      \"column\": \"itemLabel\",\n      \"properties\": {\n        \"dtype\": \"string\",\n        \"num_unique_values\": 1618,\n        \"samples\": [\n          \"Lina G\\u00e1lvez Mu\\u00f1oz\",\n          \"Carmen del Campo Casas\\u00fas\",\n          \"Antonio Camacho Garc\\u00eda\"\n        ],\n        \"semantic_type\": \"\",\n        \"description\": \"\"\n      }\n    },\n    {\n      \"column\": \"occupationLabel\",\n      \"properties\": {\n        \"dtype\": \"category\",\n        \"num_unique_values\": 1,\n        \"samples\": [\n          \"pol\\u00edtico\"\n        ],\n        \"semantic_type\": \"\",\n        \"description\": \"\"\n      }\n    },\n    {\n      \"column\": \"placeLabel\",\n      \"properties\": {\n        \"dtype\": \"category\",\n        \"num_unique_values\": 326,\n        \"samples\": [\n          \"Marinaleda\"\n        ],\n        \"semantic_type\": \"\",\n        \"description\": \"\"\n      }\n    },\n    {\n      \"column\": \"dob\",\n      \"properties\": {\n        \"dtype\": \"number\",\n        \"std\": 192,\n        \"min\": -10,\n        \"max\": 2000,\n        \"num_unique_values\": 336,\n        \"samples\": [\n          1807\n        ],\n        \"semantic_type\": \"\",\n        \"description\": \"\"\n      }\n    },\n    {\n      \"column\": \"pos_inicio_paren\",\n      \"properties\": {\n        \"dtype\": \"number\",\n        \"std\": 0,\n        \"min\": 5,\n        \"max\": 5,\n        \"num_unique_values\": 1,\n        \"samples\": [\n          5\n        ],\n        \"semantic_type\": \"\",\n        \"description\": \"\"\n      }\n    },\n    {\n      \"column\": \"pos_espacio\",\n      \"properties\": {\n        \"dtype\": \"number\",\n        \"std\": 1,\n        \"min\": 10,\n        \"max\": 18,\n        \"num_unique_values\": 9,\n        \"samples\": [\n          14\n        ],\n        \"semantic_type\": \"\",\n        \"description\": \"\"\n      }\n    },\n    {\n      \"column\": \"lon\",\n      \"properties\": {\n        \"dtype\": \"category\",\n        \"num_unique_values\": 328,\n        \"samples\": [\n          \"-2.435\"\n        ],\n        \"semantic_type\": \"\",\n        \"description\": \"\"\n      }\n    },\n    {\n      \"column\": \"lat\",\n      \"properties\": {\n        \"dtype\": \"category\",\n        \"num_unique_values\": 327,\n        \"samples\": [\n          \"41.217777777\"\n        ],\n        \"semantic_type\": \"\",\n        \"description\": \"\"\n      }\n    },\n    {\n      \"column\": \"geometry\",\n      \"properties\": {\n        \"dtype\": \"geometry\",\n        \"num_unique_values\": 330,\n        \"samples\": [\n          \"POINT (3172617.850572883 1641830.736923787)\"\n        ],\n        \"semantic_type\": \"\",\n        \"description\": \"\"\n      }\n    },\n    {\n      \"column\": \"index_right\",\n      \"properties\": {\n        \"dtype\": \"number\",\n        \"std\": 1812,\n        \"min\": 282,\n        \"max\": 7220,\n        \"num_unique_values\": 313,\n        \"samples\": [\n          3543\n        ],\n        \"semantic_type\": \"\",\n        \"description\": \"\"\n      }\n    },\n    {\n      \"column\": \"mun_code\",\n      \"properties\": {\n        \"dtype\": \"number\",\n        \"std\": 11955,\n        \"min\": 4003,\n        \"max\": 46250,\n        \"num_unique_values\": 313,\n        \"samples\": [\n          23050\n        ],\n        \"semantic_type\": \"\",\n        \"description\": \"\"\n      }\n    }\n  ]\n}"
            }
          },
          "metadata": {},
          "execution_count": 133
        }
      ]
    },
    {
      "cell_type": "code",
      "source": [
        "columns=['itemLabel', 'dob','placeLabel','occupationLabel','mun_code']\n",
        "final[columns].to_csv(\"and_politicians.csv\")"
      ],
      "metadata": {
        "id": "ncY4QG54FHAW"
      },
      "execution_count": 137,
      "outputs": []
    },
    {
      "cell_type": "code",
      "source": [],
      "metadata": {
        "id": "0340IM9XF_p9"
      },
      "execution_count": null,
      "outputs": []
    }
  ]
}